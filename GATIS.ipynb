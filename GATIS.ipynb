{
  "nbformat": 4,
  "nbformat_minor": 0,
  "metadata": {
    "colab": {
      "provenance": [],
      "authorship_tag": "ABX9TyNffG7fxQlyxPoziuqjJRhg",
      "include_colab_link": true
    },
    "kernelspec": {
      "name": "python3",
      "display_name": "Python 3"
    },
    "language_info": {
      "name": "python"
    }
  },
  "cells": [
    {
      "cell_type": "markdown",
      "metadata": {
        "id": "view-in-github",
        "colab_type": "text"
      },
      "source": [
        "<a href=\"https://colab.research.google.com/github/sarayu-nar/GATIS-project/blob/main/GATIS.ipynb\" target=\"_parent\"><img src=\"https://colab.research.google.com/assets/colab-badge.svg\" alt=\"Open In Colab\"/></a>"
      ]
    },
    {
      "cell_type": "code",
      "execution_count": 2,
      "metadata": {
        "id": "c2dNADQBR6dT"
      },
      "outputs": [],
      "source": [
        "import torch\n",
        "import torch.nn as nn\n",
        "import torch.optim as optim\n",
        "from torchvision.utils import save_image\n",
        "import torchvision.transforms as transforms\n",
        "from torch.utils.data import DataLoader, Dataset\n",
        "from PIL import Image\n",
        "import numpy as np\n",
        "import os\n"
      ]
    },
    {
      "cell_type": "code",
      "source": [
        "class TextToImageDataset(Dataset):\n",
        "    def __init__(self, img_dir= r\"C:\\Users\\mural\\Desktop\\CUB_200_2011\", text_file= r\"C:\\Users\\mural\\Desktop\\CUB_200_2011\\CUB_200_2011\\images.txt\", transform=None):\n",
        "        #the init method initializes the dataset with essential variables like the image directory, text file, and any transformations.\n",
        "        #transform-optional transformations for the images\n",
        "        self.img_dir = img_dir\n",
        "        self.text_descriptions = self.load_text(text_file)\n",
        "        self.img_names = list(self.text_descriptions.keys())\n",
        "        self.transform = transform\n",
        "\n",
        "    def load_text(self, text_file):\n",
        "        descriptions = {}\n",
        "        with open(text_file, 'r') as file:\n",
        "            for line in file:\n",
        "                img_name, description = line.strip().split('\\t')\n",
        "                descriptions[img_name] = description\n",
        "        return descriptions\n",
        "\n",
        "    def __len__(self):\n",
        "        return len(self.img_names)\n",
        "\n",
        "    def __getitem__(self, idx):\n",
        "        img_name = self.img_names[idx]\n",
        "        img_path = os.path.join(self.img_dir, img_name)\n",
        "        image = Image.open(img_path).convert('RGB')\n",
        "        if self.transform:\n",
        "            image = self.transform(image)\n",
        "\n",
        "        description = self.text_descriptions[img_name]\n",
        "        return image, description\n"
      ],
      "metadata": {
        "id": "dnvaPxqdct-A"
      },
      "execution_count": 5,
      "outputs": []
    },
    {
      "cell_type": "markdown",
      "source": [
        "The Dataset class provides an interface for loading and processing data.\n",
        "The TextToImageDataset class is a custom implementation that:\n",
        "Loads images from a directory.\n",
        "Loads corresponding text descriptions from a file.\n",
        "Preprocesses the images and descriptions.\n",
        "Returns a single image-description pair each time it’s called.\n",
        "\n",
        "Load Method:\n",
        "The load function reads and processes the text file containing descriptions for each image.\n",
        "Opens the text file and reads it line by line.\n",
        "For each line it:\n",
        "1. Splits the line into an image name (img_name) and its corresponding description.\n",
        "2. Stores them in a dictionary (descriptions), where the key is the image name and the value is the description.\n",
        "3. Returns the dictionary."
      ],
      "metadata": {
        "id": "rF5bZGcpqqAS"
      }
    },
    {
      "cell_type": "code",
      "source": [],
      "metadata": {
        "id": "8-QXqV9qrbZT"
      },
      "execution_count": null,
      "outputs": []
    }
  ]
}